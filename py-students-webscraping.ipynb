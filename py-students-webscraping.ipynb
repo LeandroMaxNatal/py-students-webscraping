{
 "cells": [
  {
   "cell_type": "markdown",
   "metadata": {},
   "source": [
    "# Programming Project - Unit 3,2\n",
    "*by Igor A. Brandão and Leandro Antonio Feliciano da Silva*\n",
    "\n",
    "**Goals**\n",
    "The purpose of this project is explore the following:\n",
    "\n",
    "- Access a content using webscraping way;\n",
    "- Catch the following data about people:\n",
    "\n",
    "\n",
    "1. RG\n",
    "2. CPF\n",
    "3. CNPJ\n",
    "4. Name\n",
    "5. Marital state\n",
    "6. Birthdate\n",
    "7. Age\n",
    "8. Education level"
   ]
  },
  {
   "cell_type": "markdown",
   "metadata": {},
   "source": [
    "# Global Imports section\n",
    "\n",
    "#### Import the necessary libraries to handle \n",
    "\n",
    "- Requests;\n",
    "- urlopen;\n",
    "- HTTPError;\n",
    "- BeautifulSoup\n",
    "- Regular expression\n",
    "- Tqdm progress bar"
   ]
  },
  {
   "cell_type": "code",
   "execution_count": 1,
   "metadata": {},
   "outputs": [
    {
     "name": "stdout",
     "output_type": "stream",
     "text": [
      "Requirement already satisfied: tqdm in /home/igorbrandao/anaconda3/lib/python3.6/site-packages\r\n"
     ]
    }
   ],
   "source": [
    "### Library necessary to run this IPython Notebook\n",
    "!pip install tqdm"
   ]
  },
  {
   "cell_type": "code",
   "execution_count": 2,
   "metadata": {
    "collapsed": true
   },
   "outputs": [],
   "source": [
    "# Imports\n",
    "from urllib.request import Request, urlopen\n",
    "from urllib.error import HTTPError\n",
    "from bs4 import BeautifulSoup\n",
    "import re\n",
    "import requests"
   ]
  },
  {
   "cell_type": "markdown",
   "metadata": {},
   "source": [
    "# Function section\n",
    "\n",
    "#### This section contains all the generic functions used in this project"
   ]
  },
  {
   "cell_type": "code",
   "execution_count": 3,
   "metadata": {
    "collapsed": true
   },
   "outputs": [],
   "source": [
    "# Return an soup Object\n",
    "def getSoup(url):\n",
    "    try:\n",
    "        html = requests.get(url)\n",
    "    except HTTPError as e:\n",
    "        return None\n",
    "    try:\n",
    "        soup = BeautifulSoup(html.content, 'html.parser')\n",
    "    except AttributeError as e:\n",
    "        return None\n",
    "    return soup"
   ]
  },
  {
   "cell_type": "code",
   "execution_count": 10,
   "metadata": {
    "collapsed": true
   },
   "outputs": [],
   "source": [
    "# Remove the dirty part from link\n",
    "def getLink(url, dirty):\n",
    "    result = url.split(dirty)\n",
    "    return result[0]"
   ]
  },
  {
   "cell_type": "markdown",
   "metadata": {},
   "source": [
    "# Input section\n",
    "\n",
    "#### This section cover all the basic parameters used to perform the web scrapping operation"
   ]
  },
  {
   "cell_type": "code",
   "execution_count": 4,
   "metadata": {
    "collapsed": true
   },
   "outputs": [],
   "source": [
    "# [Global parameters]\n",
    "\n",
    "# Search term (person name)\n",
    "search_term = \"Igor Augusto Brandão\"\n",
    "\n",
    "# Search limiter\n",
    "search_results_number = \"20\"\n",
    "\n",
    "# Number of recursion (how many levels the search will dig)\n",
    "recursion_number = 2\n",
    "\n",
    "# Base URI\n",
    "search_url = \"https://www.google.com.br/search?q=\""
   ]
  },
  {
   "cell_type": "markdown",
   "metadata": {},
   "source": [
    "#### Here we assemble the final search URI"
   ]
  },
  {
   "cell_type": "code",
   "execution_count": 5,
   "metadata": {
    "collapsed": true
   },
   "outputs": [],
   "source": [
    "# First of all, replace blank spaces by add signals to perform the search\n",
    "search_term = re.sub(\" \", \"+\", search_term)\n",
    "\n",
    "# Assembly the search URI\n",
    "url = (search_url + search_term + \"&num=\" + search_results_number)\n",
    "\n",
    "# Access the page content\n",
    "soup = getSoup(url)"
   ]
  },
  {
   "cell_type": "markdown",
   "metadata": {},
   "source": [
    "# Processing section\n",
    "\n",
    "#### This section is responsible for handle the processing\n",
    "\n",
    "#### *Warning:* The *url* must be properly assembled for this section work"
   ]
  },
  {
   "cell_type": "code",
   "execution_count": 6,
   "metadata": {
    "collapsed": true
   },
   "outputs": [],
   "source": [
    "# [Processing parameters]\n",
    "\n",
    "# Search method\n",
    "# It's define how we'll look for the results section\n",
    "# Possible methods {id, tag, className}\n",
    "search_method = \"id\"\n",
    "\n",
    "# Result tag ID (the idea here is just getting the search result and ignore what's left over)\n",
    "result_tag_id = \"res\"\n",
    "\n",
    "# HTML container element\n",
    "element = \"div\"\n",
    "\n",
    "# Class name\n",
    "class_name = \"\"\n",
    "\n",
    "# Content variable\n",
    "content = \"\""
   ]
  },
  {
   "cell_type": "markdown",
   "metadata": {},
   "source": [
    "#### Check the choosen search method"
   ]
  },
  {
   "cell_type": "code",
   "execution_count": 7,
   "metadata": {
    "collapsed": true
   },
   "outputs": [],
   "source": [
    "# Check the search method\n",
    "if search_method == \"id\":\n",
    "   content = soup.findAll(element, id=result_tag_id)[0]\n",
    "elif search_method == \"tag\":\n",
    "   content = soup.findAll(element, limit=1)\n",
    "elif search_method == \"className\":\n",
    "   content = soup.find(class_=class_name)\n",
    "else:\n",
    "   print(\"You must choose one search method\")"
   ]
  },
  {
   "cell_type": "markdown",
   "metadata": {},
   "source": [
    "#### Get the list of result links and put into an array"
   ]
  },
  {
   "cell_type": "code",
   "execution_count": 14,
   "metadata": {},
   "outputs": [],
   "source": [
    "# Link list\n",
    "link_list = []\n",
    "link = \"\"\n",
    "\n",
    "# Add the links to the list\n",
    "for item in content.find_all('a'):\n",
    "    # Check if exist a href attribute\n",
    "    if 'href' in item.attrs:\n",
    "        # Check if it's a link\n",
    "        if 'http' in str(item.attrs):\n",
    "            # Remove the dirty part from the link using the defined function getLink()\n",
    "            link = getLink(item.attrs['href'].replace(\"/url?q=\", \"\"), \"&sa=\")\n",
    "            link_list.append(link)"
   ]
  },
  {
   "cell_type": "markdown",
   "metadata": {},
   "source": [
    "#### Run into inside links n levels (depends on recursion_number)\n",
    "\n",
    "**Important:** recursion_number = 2 means read the search page and its sub-links (1 level)"
   ]
  },
  {
   "cell_type": "code",
   "execution_count": 15,
   "metadata": {},
   "outputs": [
    {
     "name": "stdout",
     "output_type": "stream",
     "text": [
      "https://trello.com/igorabrandao\n",
      "===============================================================================================\n",
      "http://www.escavador.com/sobre/11597245/igor-augusto-brandao\n",
      "===============================================================================================\n",
      "http://webcache.googleusercontent.com/search%3Fq%3Dcache:ZG2eOhMbwVoJ:http://www.escavador.com/sobre/11597245/igor-augusto-brandao%252BIgor%2BAugusto%2BBrand%25C3%25A3o%26num%3D20%26hl%3Dpt-BR%26ct%3Dclnk\n",
      "===============================================================================================\n",
      "https://twitter.com/igor_abrandao\n",
      "===============================================================================================\n",
      "http://webcache.googleusercontent.com/search%3Fq%3Dcache:5tFcTMCb4X0J:https://twitter.com/igor_abrandao%252BIgor%2BAugusto%2BBrand%25C3%25A3o%26num%3D20%26hl%3Dpt-BR%26ct%3Dclnk\n",
      "===============================================================================================\n",
      "http://www.jusbrasil.com.br/topicos/96417862/igor-augusto-brandao-alves\n",
      "===============================================================================================\n",
      "http://webcache.googleusercontent.com/search%3Fq%3Dcache:r8TGeaejyeUJ:http://www.jusbrasil.com.br/topicos/96417862/igor-augusto-brandao-alves%252BIgor%2BAugusto%2BBrand%25C3%25A3o%26num%3D20%26hl%3Dpt-BR%26ct%3Dclnk\n",
      "===============================================================================================\n",
      "https://twitter.com/igor_abrandao\n",
      "===============================================================================================\n",
      "https://github.com/igorabrandao\n",
      "===============================================================================================\n",
      "https://www.skoob.com.br/usuario/340743-badhokage\n",
      "===============================================================================================\n",
      "https://br.linkedin.com/in/igor-augusto-ortiz-27713a37\n",
      "===============================================================================================\n",
      "http://www.bocaonews.com.br/noticias/politica/eleicoes-2016/152447,famosos-entram-na-briga-para-concorrer-a-vaga-na-camara-de-salvador-conheca.html\n",
      "===============================================================================================\n",
      "http://mackenzie-br.academia.edu/IgorBrandao/CurriculumVitae\n",
      "===============================================================================================\n",
      "https://github.com/igorabrandao\n",
      "===============================================================================================\n",
      "http://webcache.googleusercontent.com/search%3Fq%3Dcache:-0Msnd3gCEQJ:https://github.com/igorabrandao%252BIgor%2BAugusto%2BBrand%25C3%25A3o%26num%3D20%26hl%3Dpt-BR%26ct%3Dclnk\n",
      "===============================================================================================\n",
      "http://www.jabrasil.org.br/ja/noticias/ex-achievers-participam-do-torneio-empreendedor-nexa-rn\n",
      "===============================================================================================\n",
      "http://webcache.googleusercontent.com/search%3Fq%3Dcache:rr8T0VRizxYJ:http://www.jabrasil.org.br/ja/noticias/ex-achievers-participam-do-torneio-empreendedor-nexa-rn%252BIgor%2BAugusto%2BBrand%25C3%25A3o%26num%3D20%26hl%3Dpt-BR%26ct%3Dclnk\n",
      "===============================================================================================\n",
      "http://www.jabrasil.org.br/jarn/noticias/ex-achievers-participam-do-torneio-empreende-nexa-rn\n",
      "===============================================================================================\n",
      "http://arquivos.info.ufrn.br/arquivos/2015187232fdba24687963090fad793ef/RESULTADO_FINAL_DE_CULOS_PARA_PUBLICAO_EM_PDF.pdf\n",
      "===============================================================================================\n",
      "http://webcache.googleusercontent.com/search%3Fq%3Dcache:gyYOtRWjqnwJ:http://arquivos.info.ufrn.br/arquivos/2015187232fdba24687963090fad793ef/RESULTADO_FINAL_DE_CULOS_PARA_PUBLICAO_EM_PDF.pdf%252BIgor%2BAugusto%2BBrand%25C3%25A3o%26num%3D20%26hl%3Dpt-BR%26ct%3Dclnk\n",
      "===============================================================================================\n",
      "https://br.linkedin.com/pub/igor-augusto-brand%25C3%25A3o-de-santana/a3/68b/909\n",
      "===============================================================================================\n",
      "https://www2.ufmg.br/drca/content/download/22502/154130/file/CONVOCADOS%25202A%2520CHAMADA%2520CP%25202015.pdf\n",
      "===============================================================================================\n",
      "http://webcache.googleusercontent.com/search%3Fq%3Dcache:F0uoqkPwr5EJ:https://www2.ufmg.br/drca/content/download/22502/154130/file/CONVOCADOS%2525202A%252520CHAMADA%252520CP%2525202015.pdf%252BIgor%2BAugusto%2BBrand%25C3%25A3o%26num%3D20%26hl%3Dpt-BR%26ct%3Dclnk\n",
      "===============================================================================================\n",
      "http://www.igorabrandao.com.br/modulo_download\n",
      "===============================================================================================\n",
      "http://webcache.googleusercontent.com/search%3Fq%3Dcache:924XMMbGavYJ:http://www.igorabrandao.com.br/modulo_download%252BIgor%2BAugusto%2BBrand%25C3%25A3o%26num%3D20%26hl%3Dpt-BR%26ct%3Dclnk\n",
      "===============================================================================================\n",
      "http://www.advogando.net/advogados/igor_augusto_brandao_alves--149423\n",
      "===============================================================================================\n",
      "https://www.skoob.com.br/usuario/340743-badhokage\n",
      "===============================================================================================\n",
      "http://www.cps.sp.gov.br/pos-graduacao/workshop-de-pos-graduacao-e-pesquisa/010-workshop-2015/workshop/trabalhos/Sistemas_Produtivos/Meio_Amb_Saude_Ocup_Desenv_Sust/Logistica_reversa_equip_eletronicos.pdf\n",
      "===============================================================================================\n",
      "http://brasileiros.com.br/2013/07/ganhadores-do-concurso-cultural-colaboracao-em-massa/\n",
      "===============================================================================================\n",
      "http://webcache.googleusercontent.com/search%3Fq%3Dcache:GZUOKlhaNRMJ:http://brasileiros.com.br/2013/07/ganhadores-do-concurso-cultural-colaboracao-em-massa/%252BIgor%2BAugusto%2BBrand%25C3%25A3o%26num%3D20%26hl%3Dpt-BR%26ct%3Dclnk\n",
      "===============================================================================================\n",
      "http://www.academia.edu/10055474/A_UTILIZA%25C3%2587%25C3%2583O_DA_TECNOLOGIA_RFID_NO_ATENDIMENTO_DA_GEST%25C3%2583O_DA_POL%25C3%258DTICA\n",
      "===============================================================================================\n",
      "http://webcache.googleusercontent.com/search%3Fq%3Dcache:X4VPaC_vh7cJ:http://www.academia.edu/10055474/A_UTILIZA%2525C3%252587%2525C3%252583O_DA_TECNOLOGIA_RFID_NO_ATENDIMENTO_DA_GEST%2525C3%252583O_DA_POL%2525C3%25258DTICA%252BIgor%2BAugusto%2BBrand%25C3%25A3o%26num%3D20%26hl%3Dpt-BR%26ct%3Dclnk\n",
      "===============================================================================================\n",
      "https://blogs.technet.microsoft.com/lpalma/2009/12/15/palestra-sobre-redes-sociais-em-santos-continuando-a-conversa/\n",
      "===============================================================================================\n",
      "http://webcache.googleusercontent.com/search%3Fq%3Dcache:q-9cSBoBe_IJ:https://blogs.technet.microsoft.com/lpalma/2009/12/15/palestra-sobre-redes-sociais-em-santos-continuando-a-conversa/%252BIgor%2BAugusto%2BBrand%25C3%25A3o%26num%3D20%26hl%3Dpt-BR%26ct%3Dclnk\n",
      "===============================================================================================\n",
      "http://sistema.semead.com.br/16semead/resultado/trabalhosPDF/1203.pdf\n",
      "===============================================================================================\n",
      "http://webcache.googleusercontent.com/search%3Fq%3Dcache:RaoiCwcgEoQJ:http://sistema.semead.com.br/16semead/resultado/trabalhosPDF/1203.pdf%252BIgor%2BAugusto%2BBrand%25C3%25A3o%26num%3D20%26hl%3Dpt-BR%26ct%3Dclnk\n",
      "===============================================================================================\n",
      "http://www.conpedi.org.br/publicacoes/y0ii48h0/342787w4/Fvw913Sb029jc8Hd.pdf\n",
      "===============================================================================================\n"
     ]
    }
   ],
   "source": [
    "# Add the links to the list\n",
    "for idx, item in enumerate(link_list):\n",
    "    #html = getSoup(item)\n",
    "    #print(html)\n",
    "    print(item)\n",
    "    print(\"===============================================================================================\")"
   ]
  },
  {
   "cell_type": "code",
   "execution_count": null,
   "metadata": {
    "collapsed": true
   },
   "outputs": [],
   "source": []
  }
 ],
 "metadata": {
  "kernelspec": {
   "display_name": "Python 3",
   "language": "python",
   "name": "python3"
  },
  "language_info": {
   "codemirror_mode": {
    "name": "ipython",
    "version": 3
   },
   "file_extension": ".py",
   "mimetype": "text/x-python",
   "name": "python",
   "nbconvert_exporter": "python",
   "pygments_lexer": "ipython3",
   "version": "3.6.0"
  }
 },
 "nbformat": 4,
 "nbformat_minor": 2
}
