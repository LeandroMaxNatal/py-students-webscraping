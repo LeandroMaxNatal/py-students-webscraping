{
 "cells": [
  {
   "cell_type": "markdown",
   "metadata": {},
   "source": [
    "# Programming Project - Unit 3,2\n",
    "*by Igor A. Brandão and Leandro Antonio Feliciano da Silva*\n",
    "\n",
    "**Goals**\n",
    "The purpose of this project is explore the following:\n",
    "\n",
    "- Access a content using webscraping way;\n",
    "- Catch the following data about people:\n",
    "\n",
    "\n",
    "1. RG\n",
    "2. CPF\n",
    "3. CNPJ\n",
    "4. Name\n",
    "5. Marital state\n",
    "6. Birthdate\n",
    "7. Age\n",
    "8. Education level"
   ]
  },
  {
   "cell_type": "markdown",
   "metadata": {},
   "source": [
    "# Global Imports section\n",
    "\n",
    "#### Import the necessary libraries to handle \n",
    "\n",
    "- Requests;\n",
    "- urlopen;\n",
    "- HTTPError;\n",
    "- BeautifulSoup\n",
    "- Regular expression\n",
    "- Tqdm progress bar"
   ]
  },
  {
   "cell_type": "code",
   "execution_count": 1,
   "metadata": {},
   "outputs": [
    {
     "name": "stdout",
     "output_type": "stream",
     "text": [
      "Requirement already satisfied: tqdm in /home/igorbrandao/anaconda3/lib/python3.6/site-packages\r\n"
     ]
    }
   ],
   "source": [
    "### Library necessary to run this IPython Notebook\n",
    "!pip install tqdm"
   ]
  },
  {
   "cell_type": "code",
   "execution_count": 17,
   "metadata": {
    "collapsed": true
   },
   "outputs": [],
   "source": [
    "# Imports\n",
    "from urllib.request import Request, urlopen\n",
    "from urllib.error import HTTPError\n",
    "from bs4 import BeautifulSoup\n",
    "import re\n",
    "import requests\n",
    "from tqdm import tqdm"
   ]
  },
  {
   "cell_type": "markdown",
   "metadata": {},
   "source": [
    "# Function section\n",
    "\n",
    "#### This section contains all the generic functions used in this project"
   ]
  },
  {
   "cell_type": "code",
   "execution_count": 3,
   "metadata": {
    "collapsed": true
   },
   "outputs": [],
   "source": [
    "# Return an soup Object\n",
    "def getSoup(url):\n",
    "    try:\n",
    "        html = requests.get(url)\n",
    "    except HTTPError as e:\n",
    "        return None\n",
    "    try:\n",
    "        soup = BeautifulSoup(html.content, 'html.parser')\n",
    "    except AttributeError as e:\n",
    "        return None\n",
    "    return soup"
   ]
  },
  {
   "cell_type": "code",
   "execution_count": 10,
   "metadata": {
    "collapsed": true
   },
   "outputs": [],
   "source": [
    "# Remove the dirty part from link\n",
    "def getLink(url, dirty):\n",
    "    result = url.split(dirty)\n",
    "    return result[0]"
   ]
  },
  {
   "cell_type": "markdown",
   "metadata": {},
   "source": [
    "# Input section\n",
    "\n",
    "#### This section cover all the basic parameters used to perform the web scrapping operation"
   ]
  },
  {
   "cell_type": "code",
   "execution_count": 4,
   "metadata": {
    "collapsed": true
   },
   "outputs": [],
   "source": [
    "# [Global parameters]\n",
    "\n",
    "# Search term (person name)\n",
    "search_term = \"Igor Augusto Brandão\"\n",
    "\n",
    "# Search limiter\n",
    "search_results_number = \"20\"\n",
    "\n",
    "# Number of recursion (how many levels the search will dig)\n",
    "recursion_number = 2\n",
    "\n",
    "# Base URI\n",
    "search_url = \"https://www.google.com.br/search?q=\""
   ]
  },
  {
   "cell_type": "markdown",
   "metadata": {},
   "source": [
    "#### Here we assemble the final search URI"
   ]
  },
  {
   "cell_type": "code",
   "execution_count": 5,
   "metadata": {
    "collapsed": true
   },
   "outputs": [],
   "source": [
    "# First of all, replace blank spaces by add signals to perform the search\n",
    "search_term = re.sub(\" \", \"+\", search_term)\n",
    "\n",
    "# Assembly the search URI\n",
    "url = (search_url + search_term + \"&num=\" + search_results_number)\n",
    "\n",
    "# Access the page content\n",
    "soup = getSoup(url)"
   ]
  },
  {
   "cell_type": "markdown",
   "metadata": {},
   "source": [
    "# Processing section\n",
    "\n",
    "#### This section is responsible for handle the processing\n",
    "\n",
    "#### *Warning:* The *url* must be properly assembled for this section work"
   ]
  },
  {
   "cell_type": "code",
   "execution_count": 6,
   "metadata": {
    "collapsed": true
   },
   "outputs": [],
   "source": [
    "# [Processing parameters]\n",
    "\n",
    "# Search method\n",
    "# It's define how we'll look for the results section\n",
    "# Possible methods {id, tag, className}\n",
    "search_method = \"id\"\n",
    "\n",
    "# Result tag ID (the idea here is just getting the search result and ignore what's left over)\n",
    "result_tag_id = \"res\"\n",
    "\n",
    "# HTML container element\n",
    "element = \"div\"\n",
    "\n",
    "# Class name\n",
    "class_name = \"\"\n",
    "\n",
    "# Content variable\n",
    "content = \"\""
   ]
  },
  {
   "cell_type": "markdown",
   "metadata": {},
   "source": [
    "#### Check the choosen search method"
   ]
  },
  {
   "cell_type": "code",
   "execution_count": 7,
   "metadata": {
    "collapsed": true
   },
   "outputs": [],
   "source": [
    "# Check the search method\n",
    "if search_method == \"id\":\n",
    "   content = soup.findAll(element, id=result_tag_id)[0]\n",
    "elif search_method == \"tag\":\n",
    "   content = soup.findAll(element, limit=1)\n",
    "elif search_method == \"className\":\n",
    "   content = soup.find(class_=class_name)\n",
    "else:\n",
    "   print(\"You must choose one search method\")"
   ]
  },
  {
   "cell_type": "markdown",
   "metadata": {},
   "source": [
    "#### Get the list of result links and put into an array"
   ]
  },
  {
   "cell_type": "code",
   "execution_count": 27,
   "metadata": {},
   "outputs": [
    {
     "name": "stderr",
     "output_type": "stream",
     "text": [
      "100%|██████████| 38/38 [00:00<00:00, 12943.28it/s]\n"
     ]
    }
   ],
   "source": [
    "# Link list\n",
    "link_list = []\n",
    "link_list_content = []\n",
    "link = \"\"\n",
    "\n",
    "# Filter (to avoid receiving undesirable URIs)\n",
    "filters = ['webcache', '.pdf', '.doc', '.docx', '.xls', '.xlsx']\n",
    "\n",
    "# Add the links to the list\n",
    "for item in tqdm(content.find_all('a')):\n",
    "    \n",
    "    # Check if exist a href attribute\n",
    "    if 'href' in item.attrs:\n",
    "        \n",
    "        # Check if it's a link\n",
    "        if 'http' in str(item.attrs):\n",
    "            \n",
    "            # Filter the results accordling to the filter list\n",
    "            if not any(filter_item in str(item.attrs) for filter_item in filters):\n",
    "                \n",
    "                # Remove the dirty part from the link using the defined function getLink()\n",
    "                link = getLink(item.attrs['href'].replace(\"/url?q=\", \"\"), \"&sa=\")\n",
    "                link_list.append(link)"
   ]
  },
  {
   "cell_type": "markdown",
   "metadata": {},
   "source": [
    "#### Run into inside links n levels (depends on recursion_number)\n",
    "\n",
    "**Important:** recursion_number = 2 means read the search page and its sub-links (1 level)"
   ]
  },
  {
   "cell_type": "code",
   "execution_count": 28,
   "metadata": {
    "scrolled": false
   },
   "outputs": [
    {
     "name": "stderr",
     "output_type": "stream",
     "text": [
      "1it [00:01,  1.33s/it]"
     ]
    },
    {
     "name": "stdout",
     "output_type": "stream",
     "text": [
      "https://trello.com/igorabrandao\n",
      "===============================================================================================\n"
     ]
    },
    {
     "name": "stderr",
     "output_type": "stream",
     "text": [
      "\r",
      "2it [00:02,  1.29s/it]"
     ]
    },
    {
     "name": "stdout",
     "output_type": "stream",
     "text": [
      "http://www.escavador.com/sobre/11597245/igor-augusto-brandao\n",
      "===============================================================================================\n"
     ]
    },
    {
     "name": "stderr",
     "output_type": "stream",
     "text": [
      "\r",
      "3it [00:03,  1.24s/it]"
     ]
    },
    {
     "name": "stdout",
     "output_type": "stream",
     "text": [
      "https://twitter.com/igor_abrandao\n",
      "===============================================================================================\n"
     ]
    },
    {
     "name": "stderr",
     "output_type": "stream",
     "text": [
      "\r",
      "4it [00:05,  1.30s/it]"
     ]
    },
    {
     "name": "stdout",
     "output_type": "stream",
     "text": [
      "http://www.jusbrasil.com.br/topicos/96417862/igor-augusto-brandao-alves\n",
      "===============================================================================================\n"
     ]
    },
    {
     "name": "stderr",
     "output_type": "stream",
     "text": [
      "\r",
      "5it [00:06,  1.26s/it]"
     ]
    },
    {
     "name": "stdout",
     "output_type": "stream",
     "text": [
      "https://twitter.com/igor_abrandao\n",
      "===============================================================================================\n"
     ]
    },
    {
     "name": "stderr",
     "output_type": "stream",
     "text": [
      "\r",
      "6it [00:07,  1.18s/it]"
     ]
    },
    {
     "name": "stdout",
     "output_type": "stream",
     "text": [
      "https://github.com/igorabrandao\n",
      "===============================================================================================\n"
     ]
    },
    {
     "name": "stderr",
     "output_type": "stream",
     "text": [
      "\r",
      "7it [00:07,  1.02it/s]"
     ]
    },
    {
     "name": "stdout",
     "output_type": "stream",
     "text": [
      "https://www.skoob.com.br/usuario/340743-badhokage\n",
      "===============================================================================================\n"
     ]
    },
    {
     "name": "stderr",
     "output_type": "stream",
     "text": [
      "\r",
      "8it [00:08,  1.27it/s]"
     ]
    },
    {
     "name": "stdout",
     "output_type": "stream",
     "text": [
      "https://br.linkedin.com/in/igor-augusto-ortiz-27713a37\n",
      "===============================================================================================\n"
     ]
    },
    {
     "name": "stderr",
     "output_type": "stream",
     "text": [
      "\r",
      "9it [00:08,  1.36it/s]"
     ]
    },
    {
     "name": "stdout",
     "output_type": "stream",
     "text": [
      "http://www.bocaonews.com.br/noticias/politica/eleicoes-2016/152447,famosos-entram-na-briga-para-concorrer-a-vaga-na-camara-de-salvador-conheca.html\n",
      "===============================================================================================\n"
     ]
    },
    {
     "name": "stderr",
     "output_type": "stream",
     "text": [
      "\r",
      "10it [00:09,  1.30it/s]"
     ]
    },
    {
     "name": "stdout",
     "output_type": "stream",
     "text": [
      "http://mackenzie-br.academia.edu/IgorBrandao/CurriculumVitae\n",
      "===============================================================================================\n"
     ]
    },
    {
     "name": "stderr",
     "output_type": "stream",
     "text": [
      "\r",
      "11it [00:10,  1.19it/s]"
     ]
    },
    {
     "name": "stdout",
     "output_type": "stream",
     "text": [
      "https://github.com/igorabrandao\n",
      "===============================================================================================\n"
     ]
    },
    {
     "name": "stderr",
     "output_type": "stream",
     "text": [
      "\r",
      "12it [00:10,  1.46it/s]"
     ]
    },
    {
     "name": "stdout",
     "output_type": "stream",
     "text": [
      "http://www.jabrasil.org.br/ja/noticias/ex-achievers-participam-do-torneio-empreendedor-nexa-rn\n",
      "===============================================================================================\n"
     ]
    },
    {
     "name": "stderr",
     "output_type": "stream",
     "text": [
      "\r",
      "13it [00:11,  1.71it/s]"
     ]
    },
    {
     "name": "stdout",
     "output_type": "stream",
     "text": [
      "http://www.jabrasil.org.br/jarn/noticias/ex-achievers-participam-do-torneio-empreende-nexa-rn\n",
      "===============================================================================================\n"
     ]
    },
    {
     "name": "stderr",
     "output_type": "stream",
     "text": [
      "\r",
      "14it [00:11,  1.99it/s]"
     ]
    },
    {
     "name": "stdout",
     "output_type": "stream",
     "text": [
      "https://br.linkedin.com/pub/igor-augusto-brand%25C3%25A3o-de-santana/a3/68b/909\n",
      "===============================================================================================\n"
     ]
    },
    {
     "name": "stderr",
     "output_type": "stream",
     "text": [
      "Some characters could not be decoded, and were replaced with REPLACEMENT CHARACTER.\n",
      "15it [00:24,  4.29s/it]"
     ]
    },
    {
     "name": "stdout",
     "output_type": "stream",
     "text": [
      "http://www.igorabrandao.com.br/modulo_download\n",
      "===============================================================================================\n"
     ]
    },
    {
     "name": "stderr",
     "output_type": "stream",
     "text": [
      "\r",
      "16it [00:24,  3.09s/it]"
     ]
    },
    {
     "name": "stdout",
     "output_type": "stream",
     "text": [
      "http://www.advogando.net/advogados/igor_augusto_brandao_alves--149423\n",
      "===============================================================================================\n"
     ]
    },
    {
     "name": "stderr",
     "output_type": "stream",
     "text": [
      "\r",
      "17it [00:25,  2.31s/it]"
     ]
    },
    {
     "name": "stdout",
     "output_type": "stream",
     "text": [
      "https://www.skoob.com.br/usuario/340743-badhokage\n",
      "===============================================================================================\n"
     ]
    },
    {
     "name": "stderr",
     "output_type": "stream",
     "text": [
      "\r",
      "18it [00:25,  1.78s/it]"
     ]
    },
    {
     "name": "stdout",
     "output_type": "stream",
     "text": [
      "http://brasileiros.com.br/2013/07/ganhadores-do-concurso-cultural-colaboracao-em-massa/\n",
      "===============================================================================================\n"
     ]
    },
    {
     "name": "stderr",
     "output_type": "stream",
     "text": [
      "\r",
      "19it [00:27,  1.60s/it]"
     ]
    },
    {
     "name": "stdout",
     "output_type": "stream",
     "text": [
      "http://www.academia.edu/10055474/A_UTILIZA%25C3%2587%25C3%2583O_DA_TECNOLOGIA_RFID_NO_ATENDIMENTO_DA_GEST%25C3%2583O_DA_POL%25C3%258DTICA\n",
      "===============================================================================================\n"
     ]
    },
    {
     "name": "stderr",
     "output_type": "stream",
     "text": [
      "\r",
      "20it [00:28,  1.47s/it]"
     ]
    },
    {
     "name": "stdout",
     "output_type": "stream",
     "text": [
      "https://blogs.technet.microsoft.com/lpalma/2009/12/15/palestra-sobre-redes-sociais-em-santos-continuando-a-conversa/\n",
      "===============================================================================================\n"
     ]
    },
    {
     "name": "stderr",
     "output_type": "stream",
     "text": [
      "\n"
     ]
    }
   ],
   "source": [
    "# Add the links to the list\n",
    "for idx, item in tqdm(enumerate(link_list)):\n",
    "    link_list_content.append(getSoup(item))\n",
    "    print(item)\n",
    "    print(\"===============================================================================================\")"
   ]
  },
  {
   "cell_type": "code",
   "execution_count": null,
   "metadata": {
    "collapsed": true
   },
   "outputs": [],
   "source": []
  }
 ],
 "metadata": {
  "kernelspec": {
   "display_name": "Python 3",
   "language": "python",
   "name": "python3"
  },
  "language_info": {
   "codemirror_mode": {
    "name": "ipython",
    "version": 3
   },
   "file_extension": ".py",
   "mimetype": "text/x-python",
   "name": "python",
   "nbconvert_exporter": "python",
   "pygments_lexer": "ipython3",
   "version": "3.6.0"
  }
 },
 "nbformat": 4,
 "nbformat_minor": 2
}
